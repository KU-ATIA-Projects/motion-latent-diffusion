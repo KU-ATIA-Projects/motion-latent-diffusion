{
 "cells": [
  {
   "cell_type": "code",
   "execution_count": 1,
   "metadata": {},
   "outputs": [
    {
     "ename": "ModuleNotFoundError",
     "evalue": "No module named 'data_loaders'",
     "output_type": "error",
     "traceback": [
      "\u001b[0;31m---------------------------------------------------------------------------\u001b[0m",
      "\u001b[0;31mModuleNotFoundError\u001b[0m                       Traceback (most recent call last)",
      "Cell \u001b[0;32mIn[1], line 5\u001b[0m\n\u001b[1;32m      3\u001b[0m sys\u001b[39m.\u001b[39mpath\u001b[39m.\u001b[39mappend(\u001b[39m'\u001b[39m\u001b[39m/home/ctq566/motion-diffusion-model/\u001b[39m\u001b[39m'\u001b[39m)\n\u001b[1;32m      4\u001b[0m \u001b[39mimport\u001b[39;00m \u001b[39mnumpy\u001b[39;00m \u001b[39mas\u001b[39;00m \u001b[39mnp\u001b[39;00m\n\u001b[0;32m----> 5\u001b[0m \u001b[39mimport\u001b[39;00m \u001b[39mdata_loaders\u001b[39;00m\u001b[39m.\u001b[39;00m\u001b[39mhumanml\u001b[39;00m\u001b[39m.\u001b[39;00m\u001b[39mutils\u001b[39;00m\u001b[39m.\u001b[39;00m\u001b[39mparamUtil\u001b[39;00m \u001b[39mas\u001b[39;00m \u001b[39mparamUtil\u001b[39;00m\n\u001b[1;32m      6\u001b[0m \u001b[39mfrom\u001b[39;00m \u001b[39mdata_loaders\u001b[39;00m\u001b[39m.\u001b[39;00m\u001b[39mhumanml\u001b[39;00m\u001b[39m.\u001b[39;00m\u001b[39mutils\u001b[39;00m\u001b[39m.\u001b[39;00m\u001b[39mplot_script\u001b[39;00m \u001b[39mimport\u001b[39;00m plot_3d_motion\n\u001b[1;32m      7\u001b[0m \u001b[39mdef\u001b[39;00m \u001b[39mmld_to_mdm\u001b[39m(mld_data_path):\n",
      "\u001b[0;31mModuleNotFoundError\u001b[0m: No module named 'data_loaders'"
     ]
    }
   ],
   "source": [
    "import os\n",
    "import sys\n",
    "sys.path.append('/home/ctq566/motion-diffusion-model/')\n",
    "import numpy as np\n",
    "import data_loaders.humanml.utils.paramUtil as paramUtil\n",
    "from data_loaders.humanml.utils.plot_script import plot_3d_motion\n",
    "def mld_to_mdm(mld_data_path):\n",
    "    assert isinstance(mld_data_path, str)\n",
    "    mld_data = np.load(mld_data_path, allow_pickle=True)\n",
    "    lengths = mld_data.shape[0]\n",
    "    mld_data_dict = {'motion': mld_data.transpose((1, 2, 0)).reshape((1, 22, 3, lengths)), 'text': 'No text', 'lengths': np.asarray([lengths]), 'num_samples': 1, 'num_repetitions': 1}\n",
    "    # save the result to the same directory as results.npy\n",
    "    np.save(f'{os.path.dirname(mld_data_path)}/results.npy', mld_data_dict)\n",
    "    animation_save_path = f'{os.path.dirname(mld_data_path)}/sample00_rep00.mp4'\n",
    "    skeleton = paramUtil.t2m_kinematic_chain\n",
    "    motion = mld_data\n",
    "    dataset = 'humanml'\n",
    "    title = 'No title'\n",
    "    fps = 20\n",
    "    plot_3d_motion(animation_save_path, skeleton, motion, title, dataset, fps=fps)"
   ]
  },
  {
   "cell_type": "code",
   "execution_count": null,
   "metadata": {},
   "outputs": [],
   "source": []
  },
  {
   "cell_type": "code",
   "execution_count": null,
   "metadata": {},
   "outputs": [],
   "source": []
  }
 ],
 "metadata": {
  "kernelspec": {
   "display_name": "mld",
   "language": "python",
   "name": "python3"
  },
  "language_info": {
   "codemirror_mode": {
    "name": "ipython",
    "version": 3
   },
   "file_extension": ".py",
   "mimetype": "text/x-python",
   "name": "python",
   "nbconvert_exporter": "python",
   "pygments_lexer": "ipython3",
   "version": "3.9.16"
  },
  "orig_nbformat": 4,
  "vscode": {
   "interpreter": {
    "hash": "2703672a080c2dce270c5459b29eb34c8a5ed4582b24809273a43c2ac5b9ba83"
   }
  }
 },
 "nbformat": 4,
 "nbformat_minor": 2
}
