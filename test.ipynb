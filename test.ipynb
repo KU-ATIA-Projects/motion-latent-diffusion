{
 "cells": [
  {
   "cell_type": "code",
   "execution_count": 9,
   "metadata": {},
   "outputs": [],
   "source": [
    "import numpy as np\n",
    "import os\n",
    "def mld_to_mdm(mld_data_path):\n",
    "    assert isinstance(mld_data_path, str)\n",
    "    mld_data = np.load(mld_data_path, allow_pickle=True)\n",
    "    lengths = mld_data.shape[0]\n",
    "    mld_data_dict = {'motion': mld_data.transpose((1, 2, 0)).reshape((1, 22, 3, lengths)), 'text': 'No text', 'lengths': np.asarray([lengths]), 'num_samples': 1, 'num_repetitions': 1}\n",
    "    # save the result to the same directory as results.npy\n",
    "    np.save(f'{os.path.dirname(mld_data_path)}/results.npy', mld_data_dict)"
   ]
  },
  {
   "cell_type": "code",
   "execution_count": 1,
   "metadata": {},
   "outputs": [],
   "source": [
    "import torch"
   ]
  },
  {
   "cell_type": "code",
   "execution_count": 2,
   "metadata": {},
   "outputs": [
    {
     "data": {
      "text/plain": [
       "tensor([[[ 0.3202,  0.5865,  0.7238],\n",
       "         [ 0.5419, -1.5569, -1.5438]]])"
      ]
     },
     "execution_count": 2,
     "metadata": {},
     "output_type": "execute_result"
    }
   ],
   "source": [
    "torch.randn(1, 2, 3)"
   ]
  },
  {
   "cell_type": "code",
   "execution_count": 1,
   "metadata": {},
   "outputs": [],
   "source": [
    "import json\n",
    "import numpy as np\n",
    "\n",
    "with open('/home/pjr726/motion-latent-diffusion/results/latent_vector.json', 'r') as f:\n",
    "    latent_vector = json.load(f)"
   ]
  },
  {
   "cell_type": "code",
   "execution_count": null,
   "metadata": {},
   "outputs": [],
   "source": []
  }
 ],
 "metadata": {
  "kernelspec": {
   "display_name": "mld",
   "language": "python",
   "name": "python3"
  },
  "language_info": {
   "codemirror_mode": {
    "name": "ipython",
    "version": 3
   },
   "file_extension": ".py",
   "mimetype": "text/x-python",
   "name": "python",
   "nbconvert_exporter": "python",
   "pygments_lexer": "ipython3",
   "version": "3.9.16"
  },
  "orig_nbformat": 4,
  "vscode": {
   "interpreter": {
    "hash": "2703672a080c2dce270c5459b29eb34c8a5ed4582b24809273a43c2ac5b9ba83"
   }
  }
 },
 "nbformat": 4,
 "nbformat_minor": 2
}
